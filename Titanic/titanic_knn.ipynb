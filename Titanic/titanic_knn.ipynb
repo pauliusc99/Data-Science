{
 "cells": [
  {
   "cell_type": "code",
   "execution_count": 1,
   "id": "d8026041",
   "metadata": {},
   "outputs": [],
   "source": [
    "import numpy as np\n",
    "import pandas as pd\n",
    "from sklearn.neighbors import KNeighborsClassifier\n",
    "from sklearn.impute import KNNImputer\n",
    "from sklearn.preprocessing import StandardScaler\n",
    "from sklearn.model_selection import KFold, cross_val_score\n",
    "import matplotlib.pyplot as plt\n",
    "from sklearn.model_selection import train_test_split"
   ]
  },
  {
   "cell_type": "code",
   "execution_count": 2,
   "id": "d84c29e5",
   "metadata": {},
   "outputs": [
    {
     "data": {
      "text/html": [
       "<div>\n",
       "<style scoped>\n",
       "    .dataframe tbody tr th:only-of-type {\n",
       "        vertical-align: middle;\n",
       "    }\n",
       "\n",
       "    .dataframe tbody tr th {\n",
       "        vertical-align: top;\n",
       "    }\n",
       "\n",
       "    .dataframe thead th {\n",
       "        text-align: right;\n",
       "    }\n",
       "</style>\n",
       "<table border=\"1\" class=\"dataframe\">\n",
       "  <thead>\n",
       "    <tr style=\"text-align: right;\">\n",
       "      <th></th>\n",
       "      <th>PassengerId</th>\n",
       "      <th>Survived</th>\n",
       "      <th>Pclass</th>\n",
       "      <th>Name</th>\n",
       "      <th>Sex</th>\n",
       "      <th>Age</th>\n",
       "      <th>SibSp</th>\n",
       "      <th>Parch</th>\n",
       "      <th>Ticket</th>\n",
       "      <th>Fare</th>\n",
       "      <th>Cabin</th>\n",
       "      <th>Embarked</th>\n",
       "    </tr>\n",
       "  </thead>\n",
       "  <tbody>\n",
       "    <tr>\n",
       "      <th>0</th>\n",
       "      <td>1</td>\n",
       "      <td>0</td>\n",
       "      <td>3</td>\n",
       "      <td>Braund, Mr. Owen Harris</td>\n",
       "      <td>male</td>\n",
       "      <td>22.0</td>\n",
       "      <td>1</td>\n",
       "      <td>0</td>\n",
       "      <td>A/5 21171</td>\n",
       "      <td>7.2500</td>\n",
       "      <td>NaN</td>\n",
       "      <td>S</td>\n",
       "    </tr>\n",
       "    <tr>\n",
       "      <th>1</th>\n",
       "      <td>2</td>\n",
       "      <td>1</td>\n",
       "      <td>1</td>\n",
       "      <td>Cumings, Mrs. John Bradley (Florence Briggs Th...</td>\n",
       "      <td>female</td>\n",
       "      <td>38.0</td>\n",
       "      <td>1</td>\n",
       "      <td>0</td>\n",
       "      <td>PC 17599</td>\n",
       "      <td>71.2833</td>\n",
       "      <td>C85</td>\n",
       "      <td>C</td>\n",
       "    </tr>\n",
       "    <tr>\n",
       "      <th>2</th>\n",
       "      <td>3</td>\n",
       "      <td>1</td>\n",
       "      <td>3</td>\n",
       "      <td>Heikkinen, Miss. Laina</td>\n",
       "      <td>female</td>\n",
       "      <td>26.0</td>\n",
       "      <td>0</td>\n",
       "      <td>0</td>\n",
       "      <td>STON/O2. 3101282</td>\n",
       "      <td>7.9250</td>\n",
       "      <td>NaN</td>\n",
       "      <td>S</td>\n",
       "    </tr>\n",
       "    <tr>\n",
       "      <th>3</th>\n",
       "      <td>4</td>\n",
       "      <td>1</td>\n",
       "      <td>1</td>\n",
       "      <td>Futrelle, Mrs. Jacques Heath (Lily May Peel)</td>\n",
       "      <td>female</td>\n",
       "      <td>35.0</td>\n",
       "      <td>1</td>\n",
       "      <td>0</td>\n",
       "      <td>113803</td>\n",
       "      <td>53.1000</td>\n",
       "      <td>C123</td>\n",
       "      <td>S</td>\n",
       "    </tr>\n",
       "    <tr>\n",
       "      <th>4</th>\n",
       "      <td>5</td>\n",
       "      <td>0</td>\n",
       "      <td>3</td>\n",
       "      <td>Allen, Mr. William Henry</td>\n",
       "      <td>male</td>\n",
       "      <td>35.0</td>\n",
       "      <td>0</td>\n",
       "      <td>0</td>\n",
       "      <td>373450</td>\n",
       "      <td>8.0500</td>\n",
       "      <td>NaN</td>\n",
       "      <td>S</td>\n",
       "    </tr>\n",
       "  </tbody>\n",
       "</table>\n",
       "</div>"
      ],
      "text/plain": [
       "   PassengerId  Survived  Pclass  \\\n",
       "0            1         0       3   \n",
       "1            2         1       1   \n",
       "2            3         1       3   \n",
       "3            4         1       1   \n",
       "4            5         0       3   \n",
       "\n",
       "                                                Name     Sex   Age  SibSp  \\\n",
       "0                            Braund, Mr. Owen Harris    male  22.0      1   \n",
       "1  Cumings, Mrs. John Bradley (Florence Briggs Th...  female  38.0      1   \n",
       "2                             Heikkinen, Miss. Laina  female  26.0      0   \n",
       "3       Futrelle, Mrs. Jacques Heath (Lily May Peel)  female  35.0      1   \n",
       "4                           Allen, Mr. William Henry    male  35.0      0   \n",
       "\n",
       "   Parch            Ticket     Fare Cabin Embarked  \n",
       "0      0         A/5 21171   7.2500   NaN        S  \n",
       "1      0          PC 17599  71.2833   C85        C  \n",
       "2      0  STON/O2. 3101282   7.9250   NaN        S  \n",
       "3      0            113803  53.1000  C123        S  \n",
       "4      0            373450   8.0500   NaN        S  "
      ]
     },
     "execution_count": 2,
     "metadata": {},
     "output_type": "execute_result"
    }
   ],
   "source": [
    "#Read CSV and see general summary information\n",
    "titanic_df = pd.read_csv(\"train.csv\")\n",
    "titanic_df.head()"
   ]
  },
  {
   "cell_type": "markdown",
   "id": "7eef0f7e",
   "metadata": {},
   "source": [
    "We perform the same preprocessing as we did in the titanic_EDA notebook"
   ]
  },
  {
   "cell_type": "code",
   "execution_count": 3,
   "id": "dfc09578",
   "metadata": {},
   "outputs": [],
   "source": [
    "titanic_df[\"hasCabin\"] = titanic_df[\"Cabin\"].isna()"
   ]
  },
  {
   "cell_type": "code",
   "execution_count": 4,
   "id": "e0bcecca",
   "metadata": {},
   "outputs": [
    {
     "name": "stderr",
     "output_type": "stream",
     "text": [
      "C:\\Users\\eier\\AppData\\Local\\Temp\\ipykernel_25232\\1074191325.py:7: SettingWithCopyWarning: \n",
      "A value is trying to be set on a copy of a slice from a DataFrame\n",
      "\n",
      "See the caveats in the documentation: https://pandas.pydata.org/pandas-docs/stable/user_guide/indexing.html#returning-a-view-versus-a-copy\n",
      "  titanic_df[\"Age\"][index] = median_age\n"
     ]
    }
   ],
   "source": [
    "pclass_sex_age = titanic_df.groupby([\"Pclass\", \"Sex\"])[[\"Age\"]].median()[\"Age\"]\n",
    "for index, row in titanic_df.iterrows():\n",
    "    if np.isnan(row[\"Age\"]):\n",
    "        pclass = row[\"Pclass\"]\n",
    "        sex = row[\"Sex\"]\n",
    "        median_age = pclass_sex_age[pclass][sex]\n",
    "        titanic_df[\"Age\"][index] = median_age\n",
    "bins = [0,16, 80]\n",
    "labels = [\"child\", 0]\n",
    "child = pd.cut(titanic_df[\"Age\"], bins=bins, labels=labels, right=True)\n",
    "titanic_df[\"child_or_gender\"] = child\n",
    "titanic_df[\"child_or_gender\"] = np.where(titanic_df[\"child_or_gender\"] == 0, \n",
    "    titanic_df[\"Sex\"], \"child\"\n",
    ")"
   ]
  },
  {
   "cell_type": "code",
   "execution_count": 5,
   "id": "222f4f24",
   "metadata": {},
   "outputs": [],
   "source": [
    "titanic_df[\"Embarked\"].fillna(\"S\", inplace=True)"
   ]
  },
  {
   "cell_type": "code",
   "execution_count": 6,
   "id": "7e7770b4",
   "metadata": {},
   "outputs": [],
   "source": [
    "family_members = titanic_df[\"Parch\"] + titanic_df[\"SibSp\"]\n",
    "titanic_df[\"FamilySize\"] = np.where((0<family_members) & (family_members<4), \n",
    "    \"Family\", \"No/Big\"\n",
    ")"
   ]
  },
  {
   "cell_type": "code",
   "execution_count": 7,
   "id": "000ff3b9",
   "metadata": {},
   "outputs": [
    {
     "data": {
      "text/plain": [
       "min      0.0000\n",
       "max    512.3292\n",
       "Name: Fare, dtype: float64"
      ]
     },
     "execution_count": 7,
     "metadata": {},
     "output_type": "execute_result"
    }
   ],
   "source": [
    "titanic_df[\"Fare\"].agg({\"min\", \"max\"})"
   ]
  },
  {
   "cell_type": "code",
   "execution_count": 8,
   "id": "e68bb1f2",
   "metadata": {},
   "outputs": [],
   "source": [
    "# intervals are of the form (a,b]. So cannot have the first value 0. Lead to losing passengers\n",
    "bins = [-0.1,11, 80,520] \n",
    "labels = [\"Cheapest\",\"Average\",\"Expensive\"]\n",
    "fare_groups = pd.cut(titanic_df[\"Fare\"], bins=bins, labels=labels, right=True)\n",
    "titanic_df[\"FareGroups\"] = fare_groups"
   ]
  },
  {
   "cell_type": "code",
   "execution_count": 9,
   "id": "38201f9a",
   "metadata": {},
   "outputs": [
    {
     "name": "stdout",
     "output_type": "stream",
     "text": [
      "<class 'pandas.core.frame.DataFrame'>\n",
      "RangeIndex: 891 entries, 0 to 890\n",
      "Data columns (total 16 columns):\n",
      " #   Column           Non-Null Count  Dtype   \n",
      "---  ------           --------------  -----   \n",
      " 0   PassengerId      891 non-null    int64   \n",
      " 1   Survived         891 non-null    int64   \n",
      " 2   Pclass           891 non-null    category\n",
      " 3   Name             891 non-null    object  \n",
      " 4   Sex              891 non-null    category\n",
      " 5   Age              891 non-null    float64 \n",
      " 6   SibSp            891 non-null    int64   \n",
      " 7   Parch            891 non-null    int64   \n",
      " 8   Ticket           891 non-null    object  \n",
      " 9   Fare             891 non-null    float64 \n",
      " 10  Cabin            204 non-null    object  \n",
      " 11  Embarked         891 non-null    category\n",
      " 12  hasCabin         891 non-null    category\n",
      " 13  child_or_gender  891 non-null    category\n",
      " 14  FamilySize       891 non-null    category\n",
      " 15  FareGroups       891 non-null    category\n",
      "dtypes: category(7), float64(2), int64(4), object(3)\n",
      "memory usage: 69.7+ KB\n"
     ]
    }
   ],
   "source": [
    "titanic_df = titanic_df.astype({\"Sex\":\"category\", \"Embarked\":\"category\", \"hasCabin\":\"category\",\n",
    "    \"child_or_gender\": \"category\", \"FamilySize\": \"category\", \"Pclass\":\"category\"                           \n",
    "})\n",
    "titanic_df.info()"
   ]
  },
  {
   "cell_type": "code",
   "execution_count": 10,
   "id": "01a276d8",
   "metadata": {},
   "outputs": [],
   "source": [
    "y = titanic_df[\"Survived\"]\n",
    "X = titanic_df.drop([\n",
    "    \"Survived\", \"Name\", \"PassengerId\", \"Cabin\", \"Ticket\", \"Sex\", \n",
    "    \"Age\", \"SibSp\", \"Parch\", \"Fare\",\"FamilySize\", \"FareGroups\"\n",
    "    ], axis=1)"
   ]
  },
  {
   "cell_type": "code",
   "execution_count": 11,
   "id": "d104aceb",
   "metadata": {},
   "outputs": [],
   "source": [
    "X = pd.get_dummies(X,drop_first=True)\n",
    "scaler = StandardScaler()\n",
    "scaler.fit(X * 1.0)\n",
    "X_std = scaler.transform(X * 1.0)\n",
    "X_std = pd.DataFrame(X_std, columns=X.columns)"
   ]
  },
  {
   "cell_type": "code",
   "execution_count": 12,
   "id": "dbfa13d2",
   "metadata": {},
   "outputs": [],
   "source": [
    "neighbors = [i for i in range(1,20)]\n",
    "mean_score = []\n",
    "for n in neighbors:\n",
    "    clf = KNeighborsClassifier(n_neighbors=n)\n",
    "    cv = KFold(n_splits=10)\n",
    "    scores = cross_val_score(clf, X_std, y, cv=cv)\n",
    "    mean_score.append(scores.mean())"
   ]
  },
  {
   "cell_type": "code",
   "execution_count": 13,
   "id": "f7feceda",
   "metadata": {},
   "outputs": [
    {
     "name": "stdout",
     "output_type": "stream",
     "text": [
      "For 1 neighbors the accuracy is 0.696\n",
      "For 2 neighbors the accuracy is 0.747\n",
      "For 3 neighbors the accuracy is 0.790\n",
      "For 4 neighbors the accuracy is 0.799\n",
      "For 5 neighbors the accuracy is 0.805\n",
      "For 6 neighbors the accuracy is 0.816\n",
      "For 7 neighbors the accuracy is 0.810\n",
      "For 8 neighbors the accuracy is 0.813\n",
      "For 9 neighbors the accuracy is 0.788\n",
      "For 10 neighbors the accuracy is 0.798\n",
      "For 11 neighbors the accuracy is 0.796\n",
      "For 12 neighbors the accuracy is 0.805\n",
      "For 13 neighbors the accuracy is 0.798\n",
      "For 14 neighbors the accuracy is 0.809\n",
      "For 15 neighbors the accuracy is 0.796\n",
      "For 16 neighbors the accuracy is 0.796\n",
      "For 17 neighbors the accuracy is 0.795\n",
      "For 18 neighbors the accuracy is 0.809\n",
      "For 19 neighbors the accuracy is 0.789\n"
     ]
    }
   ],
   "source": [
    "for n, mean in zip(neighbors, mean_score):\n",
    "    print(f\"For {n} neighbors the accuracy is {mean:0.3f}\")"
   ]
  },
  {
   "cell_type": "code",
   "execution_count": 14,
   "id": "3a1515d0",
   "metadata": {},
   "outputs": [
    {
     "data": {
      "text/plain": [
       "[<matplotlib.lines.Line2D at 0x1af7933f010>]"
      ]
     },
     "execution_count": 14,
     "metadata": {},
     "output_type": "execute_result"
    },
    {
     "data": {
      "image/png": "[encoded data removed]",
      "text/plain": [
       "<Figure size 640x480 with 1 Axes>"
      ]
     },
     "metadata": {},
     "output_type": "display_data"
    }
   ],
   "source": [
    "plt.plot(neighbors, mean_score)"
   ]
  },
  {
   "cell_type": "code",
   "execution_count": 26,
   "id": "1a8ce671",
   "metadata": {},
   "outputs": [
    {
     "data": {
      "text/html": [
       "<style>#sk-container-id-2 {color: black;background-color: white;}#sk-container-id-2 pre{padding: 0;}#sk-container-id-2 div.sk-toggleable {background-color: white;}#sk-container-id-2 label.sk-toggleable__label {cursor: pointer;display: block;width: 100%;margin-bottom: 0;padding: 0.3em;box-sizing: border-box;text-align: center;}#sk-container-id-2 label.sk-toggleable__label-arrow:before {content: \"▸\";float: left;margin-right: 0.25em;color: #696969;}#sk-container-id-2 label.sk-toggleable__label-arrow:hover:before {color: black;}#sk-container-id-2 div.sk-estimator:hover label.sk-toggleable__label-arrow:before {color: black;}#sk-container-id-2 div.sk-toggleable__content {max-height: 0;max-width: 0;overflow: hidden;text-align: left;background-color: #f0f8ff;}#sk-container-id-2 div.sk-toggleable__content pre {margin: 0.2em;color: black;border-radius: 0.25em;background-color: #f0f8ff;}#sk-container-id-2 input.sk-toggleable__control:checked~div.sk-toggleable__content {max-height: 200px;max-width: 100%;overflow: auto;}#sk-container-id-2 input.sk-toggleable__control:checked~label.sk-toggleable__label-arrow:before {content: \"▾\";}#sk-container-id-2 div.sk-estimator input.sk-toggleable__control:checked~label.sk-toggleable__label {background-color: #d4ebff;}#sk-container-id-2 div.sk-label input.sk-toggleable__control:checked~label.sk-toggleable__label {background-color: #d4ebff;}#sk-container-id-2 input.sk-hidden--visually {border: 0;clip: rect(1px 1px 1px 1px);clip: rect(1px, 1px, 1px, 1px);height: 1px;margin: -1px;overflow: hidden;padding: 0;position: absolute;width: 1px;}#sk-container-id-2 div.sk-estimator {font-family: monospace;background-color: #f0f8ff;border: 1px dotted black;border-radius: 0.25em;box-sizing: border-box;margin-bottom: 0.5em;}#sk-container-id-2 div.sk-estimator:hover {background-color: #d4ebff;}#sk-container-id-2 div.sk-parallel-item::after {content: \"\";width: 100%;border-bottom: 1px solid gray;flex-grow: 1;}#sk-container-id-2 div.sk-label:hover label.sk-toggleable__label {background-color: #d4ebff;}#sk-container-id-2 div.sk-serial::before {content: \"\";position: absolute;border-left: 1px solid gray;box-sizing: border-box;top: 0;bottom: 0;left: 50%;z-index: 0;}#sk-container-id-2 div.sk-serial {display: flex;flex-direction: column;align-items: center;background-color: white;padding-right: 0.2em;padding-left: 0.2em;position: relative;}#sk-container-id-2 div.sk-item {position: relative;z-index: 1;}#sk-container-id-2 div.sk-parallel {display: flex;align-items: stretch;justify-content: center;background-color: white;position: relative;}#sk-container-id-2 div.sk-item::before, #sk-container-id-2 div.sk-parallel-item::before {content: \"\";position: absolute;border-left: 1px solid gray;box-sizing: border-box;top: 0;bottom: 0;left: 50%;z-index: -1;}#sk-container-id-2 div.sk-parallel-item {display: flex;flex-direction: column;z-index: 1;position: relative;background-color: white;}#sk-container-id-2 div.sk-parallel-item:first-child::after {align-self: flex-end;width: 50%;}#sk-container-id-2 div.sk-parallel-item:last-child::after {align-self: flex-start;width: 50%;}#sk-container-id-2 div.sk-parallel-item:only-child::after {width: 0;}#sk-container-id-2 div.sk-dashed-wrapped {border: 1px dashed gray;margin: 0 0.4em 0.5em 0.4em;box-sizing: border-box;padding-bottom: 0.4em;background-color: white;}#sk-container-id-2 div.sk-label label {font-family: monospace;font-weight: bold;display: inline-block;line-height: 1.2em;}#sk-container-id-2 div.sk-label-container {text-align: center;}#sk-container-id-2 div.sk-container {/* jupyter's `normalize.less` sets `[hidden] { display: none; }` but bootstrap.min.css set `[hidden] { display: none !important; }` so we also need the `!important` here to be able to override the default hidden behavior on the sphinx rendered scikit-learn.org. See: https://github.com/scikit-learn/scikit-learn/issues/21755 */display: inline-block !important;position: relative;}#sk-container-id-2 div.sk-text-repr-fallback {display: none;}</style><div id=\"sk-container-id-2\" class=\"sk-top-container\"><div class=\"sk-text-repr-fallback\"><pre>KNeighborsClassifier(n_neighbors=18)</pre><b>In a Jupyter environment, please rerun this cell to show the HTML representation or trust the notebook. <br />On GitHub, the HTML representation is unable to render, please try loading this page with nbviewer.org.</b></div><div class=\"sk-container\" hidden><div class=\"sk-item\"><div class=\"sk-estimator sk-toggleable\"><input class=\"sk-toggleable__control sk-hidden--visually\" id=\"sk-estimator-id-2\" type=\"checkbox\" checked><label for=\"sk-estimator-id-2\" class=\"sk-toggleable__label sk-toggleable__label-arrow\">KNeighborsClassifier</label><div class=\"sk-toggleable__content\"><pre>KNeighborsClassifier(n_neighbors=18)</pre></div></div></div></div></div>"
      ],
      "text/plain": [
       "KNeighborsClassifier(n_neighbors=18)"
      ]
     },
     "execution_count": 26,
     "metadata": {},
     "output_type": "execute_result"
    }
   ],
   "source": [
    "knn = KNeighborsClassifier(n_neighbors=18)\n",
    "knn.fit(X_std, y)"
   ]
  },
  {
   "cell_type": "markdown",
   "id": "6885e842",
   "metadata": {},
   "source": [
    "# Submission"
   ]
  },
  {
   "cell_type": "code",
   "execution_count": 27,
   "id": "1f6b495b",
   "metadata": {},
   "outputs": [],
   "source": [
    "test_df = pd.read_csv(\"test.csv\")"
   ]
  },
  {
   "cell_type": "code",
   "execution_count": 28,
   "id": "900d52bc",
   "metadata": {},
   "outputs": [],
   "source": [
    "test_df[\"hasCabin\"] = test_df[\"Cabin\"].isna()"
   ]
  },
  {
   "cell_type": "code",
   "execution_count": 29,
   "id": "64086c2e",
   "metadata": {},
   "outputs": [
    {
     "name": "stderr",
     "output_type": "stream",
     "text": [
      "C:\\Users\\eier\\AppData\\Local\\Temp\\ipykernel_25232\\2367378661.py:8: SettingWithCopyWarning: \n",
      "A value is trying to be set on a copy of a slice from a DataFrame\n",
      "\n",
      "See the caveats in the documentation: https://pandas.pydata.org/pandas-docs/stable/user_guide/indexing.html#returning-a-view-versus-a-copy\n",
      "  test_df[\"Age\"][index] = median_age\n"
     ]
    }
   ],
   "source": [
    "#test_df[\"Age\"].fillna(test_df[\"Age\"].median(),inplace=True) #Filling missing ages with median\n",
    "pclass_sex_age = test_df.groupby([\"Pclass\", \"Sex\"])[[\"Age\"]].median()[\"Age\"]\n",
    "for index, row in test_df.iterrows():\n",
    "    if np.isnan(row[\"Age\"]):\n",
    "        pclass = row[\"Pclass\"]\n",
    "        sex = row[\"Sex\"]\n",
    "        median_age = pclass_sex_age[pclass][sex]\n",
    "        test_df[\"Age\"][index] = median_age\n",
    "bins = [0,16, 80]\n",
    "labels = [\"child\", 0]\n",
    "child = pd.cut(test_df[\"Age\"], bins=bins, labels=labels, right=True)\n",
    "test_df[\"child_or_gender\"] = child\n",
    "test_df[\"child_or_gender\"] = np.where(test_df[\"child_or_gender\"] == 0, \n",
    "    test_df[\"Sex\"], \"child\"\n",
    ")"
   ]
  },
  {
   "cell_type": "code",
   "execution_count": 30,
   "id": "68dfe71a",
   "metadata": {},
   "outputs": [],
   "source": [
    "test_df[\"Embarked\"].fillna(\"S\", inplace=True)"
   ]
  },
  {
   "cell_type": "code",
   "execution_count": 31,
   "id": "64665457",
   "metadata": {},
   "outputs": [],
   "source": [
    "family_members = test_df[\"Parch\"] + test_df[\"SibSp\"]\n",
    "test_df[\"FamilySize\"] = np.where((0<family_members) & (family_members<4), \n",
    "    \"Family\", \"No/Big\"\n",
    ")"
   ]
  },
  {
   "cell_type": "code",
   "execution_count": 32,
   "id": "cacc6612",
   "metadata": {},
   "outputs": [],
   "source": [
    "test_df[\"Fare\"].fillna(test_df[\"Fare\"].median(), inplace=True)"
   ]
  },
  {
   "cell_type": "code",
   "execution_count": 33,
   "id": "4af2d846",
   "metadata": {},
   "outputs": [],
   "source": [
    "# intervals are of the form (a,b]. So cannot have the first value 0. Lead to losing passengers\n",
    "bins = [-0.1,11, 80,520] \n",
    "labels = [\"Cheapest\",\"Average\",\"Expensive\"]\n",
    "fare_groups = pd.cut(test_df[\"Fare\"], bins=bins, labels=labels, right=True)\n",
    "test_df[\"FareGroups\"] = fare_groups"
   ]
  },
  {
   "cell_type": "code",
   "execution_count": 34,
   "id": "57b07ef8",
   "metadata": {},
   "outputs": [],
   "source": [
    "test_df = test_df.astype({\"Sex\":\"category\", \"Embarked\":\"category\", \"hasCabin\":\"category\",\n",
    "    \"child_or_gender\": \"category\", \"FamilySize\": \"category\", \"Pclass\":\"category\",                          \n",
    "})\n"
   ]
  },
  {
   "cell_type": "code",
   "execution_count": 35,
   "id": "44487743",
   "metadata": {},
   "outputs": [],
   "source": [
    "X_test = test_df.drop([\n",
    "    \"Name\", \"PassengerId\", \"Cabin\", \"Ticket\", \"Sex\", \n",
    "    \"Age\", \"SibSp\", \"Parch\", \"Fare\",\"FamilySize\", \"FareGroups\"\n",
    "    ], axis=1\n",
    ")\n",
    "X_test = pd.get_dummies(X_test,drop_first=True)\n",
    "X_test_std = scaler.transform(X_test * 1.0)\n",
    "X_test_std = pd.DataFrame(X_test_std, columns=X_test.columns)\n"
   ]
  },
  {
   "cell_type": "code",
   "execution_count": 36,
   "id": "86cc802d",
   "metadata": {},
   "outputs": [],
   "source": [
    "pred_test = knn.predict(X_test_std)\n",
    "test_df[\"Survived\"] = pred_test\n",
    "submission = test_df[[\"PassengerId\", \"Survived\"]]\n",
    "submission.to_csv(\"Survived_knn_newest_manual_no_cabin_age_imputed.csv\",index=False)"
   ]
  },
  {
   "cell_type": "markdown",
   "id": "a6a389e9",
   "metadata": {},
   "source": [
    "The accuracy of this model is about 78.5%"
   ]
  }
 ],
 "metadata": {
  "kernelspec": {
   "display_name": "Python 3",
   "language": "python",
   "name": "python3"
  },
  "language_info": {
   "codemirror_mode": {
    "name": "ipython",
    "version": 3
   },
   "file_extension": ".py",
   "mimetype": "text/x-python",
   "name": "python",
   "nbconvert_exporter": "python",
   "pygments_lexer": "ipython3",
   "version": "3.10.10"
  }
 },
 "nbformat": 4,
 "nbformat_minor": 5
}
